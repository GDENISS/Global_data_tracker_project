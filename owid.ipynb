{
 "cells": [
  {
   "cell_type": "code",
   "execution_count": 2,
   "id": "deca30b9-a599-49ab-b80c-0463d5a5f3ce",
   "metadata": {},
   "outputs": [],
   "source": [
    "import pandas as pd\n",
    "import matplotlib.pyplot as plt\n",
    "import seaborn as sns\n",
    "import plotly.express as px\n",
    "from datetime import datetime"
   ]
  },
  {
   "cell_type": "code",
   "execution_count": 3,
   "id": "b4482db2-c1a3-40ac-886c-bdbca42795ce",
   "metadata": {},
   "outputs": [],
   "source": [
    "sns.set_style('whitegrid')"
   ]
  },
  {
   "cell_type": "code",
   "execution_count": 4,
   "id": "afc51965-e7df-460f-bc0d-9882202e1a4b",
   "metadata": {},
   "outputs": [],
   "source": [
    "df = pd.read_csv('owid-covid-data.csv')\n"
   ]
  },
  {
   "cell_type": "code",
   "execution_count": 5,
   "id": "5902ea52-3894-489f-9ffd-72f73ebd9e8d",
   "metadata": {},
   "outputs": [
    {
     "name": "stdout",
     "output_type": "stream",
     "text": [
      "Dataset Shape: (75558, 59)\n",
      "\n",
      "Columns: ['iso_code', 'continent', 'location', 'date', 'total_cases', 'new_cases', 'new_cases_smoothed', 'total_deaths', 'new_deaths', 'new_deaths_smoothed', 'total_cases_per_million', 'new_cases_per_million', 'new_cases_smoothed_per_million', 'total_deaths_per_million', 'new_deaths_per_million', 'new_deaths_smoothed_per_million', 'reproduction_rate', 'icu_patients', 'icu_patients_per_million', 'hosp_patients', 'hosp_patients_per_million', 'weekly_icu_admissions', 'weekly_icu_admissions_per_million', 'weekly_hosp_admissions', 'weekly_hosp_admissions_per_million', 'new_tests', 'total_tests', 'total_tests_per_thousand', 'new_tests_per_thousand', 'new_tests_smoothed', 'new_tests_smoothed_per_thousand', 'positive_rate', 'tests_per_case', 'tests_units', 'total_vaccinations', 'people_vaccinated', 'people_fully_vaccinated', 'new_vaccinations', 'new_vaccinations_smoothed', 'total_vaccinations_per_hundred', 'people_vaccinated_per_hundred', 'people_fully_vaccinated_per_hundred', 'new_vaccinations_smoothed_per_million', 'stringency_index', 'population', 'population_density', 'median_age', 'aged_65_older', 'aged_70_older', 'gdp_per_capita', 'extreme_poverty', 'cardiovasc_death_rate', 'diabetes_prevalence', 'female_smokers', 'male_smokers', 'handwashing_facilities', 'hospital_beds_per_thousand', 'life_expectancy', 'human_development_index']\n",
      "\n",
      "First few rows:\n",
      "   iso_code continent     location        date  total_cases  new_cases  \\\n",
      "0      AFG      Asia  Afghanistan  2020-02-24          1.0        1.0   \n",
      "1      AFG      Asia  Afghanistan  2020-02-25          1.0        0.0   \n",
      "2      AFG      Asia  Afghanistan  2020-02-26          1.0        0.0   \n",
      "3      AFG      Asia  Afghanistan  2020-02-27          1.0        0.0   \n",
      "4      AFG      Asia  Afghanistan  2020-02-28          1.0        0.0   \n",
      "\n",
      "   new_cases_smoothed  total_deaths  new_deaths  new_deaths_smoothed  ...  \\\n",
      "0                 NaN           NaN         NaN                  NaN  ...   \n",
      "1                 NaN           NaN         NaN                  NaN  ...   \n",
      "2                 NaN           NaN         NaN                  NaN  ...   \n",
      "3                 NaN           NaN         NaN                  NaN  ...   \n",
      "4                 NaN           NaN         NaN                  NaN  ...   \n",
      "\n",
      "   gdp_per_capita  extreme_poverty  cardiovasc_death_rate  \\\n",
      "0        1803.987              NaN                597.029   \n",
      "1        1803.987              NaN                597.029   \n",
      "2        1803.987              NaN                597.029   \n",
      "3        1803.987              NaN                597.029   \n",
      "4        1803.987              NaN                597.029   \n",
      "\n",
      "   diabetes_prevalence  female_smokers  male_smokers  handwashing_facilities  \\\n",
      "0                 9.59             NaN           NaN                  37.746   \n",
      "1                 9.59             NaN           NaN                  37.746   \n",
      "2                 9.59             NaN           NaN                  37.746   \n",
      "3                 9.59             NaN           NaN                  37.746   \n",
      "4                 9.59             NaN           NaN                  37.746   \n",
      "\n",
      "   hospital_beds_per_thousand  life_expectancy  human_development_index  \n",
      "0                         0.5            64.83                    0.511  \n",
      "1                         0.5            64.83                    0.511  \n",
      "2                         0.5            64.83                    0.511  \n",
      "3                         0.5            64.83                    0.511  \n",
      "4                         0.5            64.83                    0.511  \n",
      "\n",
      "[5 rows x 59 columns]\n",
      "\n",
      "Missing Values:\n",
      " iso_code                                     0\n",
      "continent                                 3715\n",
      "location                                     0\n",
      "date                                         0\n",
      "total_cases                               1242\n",
      "new_cases                                 1244\n",
      "new_cases_smoothed                        2245\n",
      "total_deaths                             10501\n",
      "new_deaths                               10343\n",
      "new_deaths_smoothed                       2245\n",
      "total_cases_per_million                   1647\n",
      "new_cases_per_million                     1649\n",
      "new_cases_smoothed_per_million            2645\n",
      "total_deaths_per_million                 10893\n",
      "new_deaths_per_million                   10735\n",
      "new_deaths_smoothed_per_million           2645\n",
      "reproduction_rate                        14806\n",
      "icu_patients                             67799\n",
      "icu_patients_per_million                 67799\n",
      "hosp_patients                            66221\n",
      "hosp_patients_per_million                66221\n",
      "weekly_icu_admissions                    74875\n",
      "weekly_icu_admissions_per_million        74875\n",
      "weekly_hosp_admissions                   74297\n",
      "weekly_hosp_admissions_per_million       74297\n",
      "new_tests                                41393\n",
      "total_tests                              41613\n",
      "total_tests_per_thousand                 41613\n",
      "new_tests_per_thousand                   41393\n",
      "new_tests_smoothed                       36554\n",
      "new_tests_smoothed_per_thousand          36554\n",
      "positive_rate                            37838\n",
      "tests_per_case                           38417\n",
      "tests_units                              35215\n",
      "total_vaccinations                       70867\n",
      "people_vaccinated                        71329\n",
      "people_fully_vaccinated                  72732\n",
      "new_vaccinations                         71557\n",
      "new_vaccinations_smoothed                68509\n",
      "total_vaccinations_per_hundred           70867\n",
      "people_vaccinated_per_hundred            71329\n",
      "people_fully_vaccinated_per_hundred      72732\n",
      "new_vaccinations_smoothed_per_million    68509\n",
      "stringency_index                         10821\n",
      "population                                 414\n",
      "population_density                        5035\n",
      "median_age                                7037\n",
      "aged_65_older                             7825\n",
      "aged_70_older                             7423\n",
      "gdp_per_capita                            6803\n",
      "extreme_poverty                          28654\n",
      "cardiovasc_death_rate                     6186\n",
      "diabetes_prevalence                       5291\n",
      "female_smokers                           21051\n",
      "male_smokers                             21800\n",
      "handwashing_facilities                   40731\n",
      "hospital_beds_per_thousand               12088\n",
      "life_expectancy                           3766\n",
      "human_development_index                   6245\n",
      "dtype: int64\n"
     ]
    }
   ],
   "source": [
    "print('Dataset Shape:', df.shape)\n",
    "print('\\nColumns:', df.columns.tolist())\n",
    "print('\\nFirst few rows:\\n', df.head())\n",
    "print('\\nMissing Values:\\n', df.isnull().sum())"
   ]
  },
  {
   "cell_type": "code",
   "execution_count": 6,
   "id": "86770d88-fd9c-4614-8e28-882d51b6f03f",
   "metadata": {},
   "outputs": [],
   "source": [
    "countries = ['Kenya', 'United States', 'India']\n",
    "df_filtered = df[df['location'].isin(countries)]"
   ]
  },
  {
   "cell_type": "code",
   "execution_count": 7,
   "id": "91c1759a-59f0-48be-b0c2-59da10ce7f61",
   "metadata": {},
   "outputs": [
    {
     "name": "stderr",
     "output_type": "stream",
     "text": [
      "C:\\Users\\Masterpiece\\AppData\\Local\\Temp\\ipykernel_17972\\2144458217.py:1: SettingWithCopyWarning: \n",
      "A value is trying to be set on a copy of a slice from a DataFrame.\n",
      "Try using .loc[row_indexer,col_indexer] = value instead\n",
      "\n",
      "See the caveats in the documentation: https://pandas.pydata.org/pandas-docs/stable/user_guide/indexing.html#returning-a-view-versus-a-copy\n",
      "  df_filtered['date'] = pd.to_datetime(df_filtered['date'])\n"
     ]
    }
   ],
   "source": [
    "df_filtered['date'] = pd.to_datetime(df_filtered['date'])"
   ]
  },
  {
   "cell_type": "code",
   "execution_count": 8,
   "id": "fc7d0c2a-81be-4eef-9941-5b443fe0eb3e",
   "metadata": {},
   "outputs": [
    {
     "name": "stderr",
     "output_type": "stream",
     "text": [
      "C:\\Users\\Masterpiece\\AppData\\Local\\Temp\\ipykernel_17972\\2894856475.py:1: SettingWithCopyWarning: \n",
      "A value is trying to be set on a copy of a slice from a DataFrame.\n",
      "Try using .loc[row_indexer,col_indexer] = value instead\n",
      "\n",
      "See the caveats in the documentation: https://pandas.pydata.org/pandas-docs/stable/user_guide/indexing.html#returning-a-view-versus-a-copy\n",
      "  df_filtered['total_cases'] = df_filtered['total_cases'].fillna(0)\n",
      "C:\\Users\\Masterpiece\\AppData\\Local\\Temp\\ipykernel_17972\\2894856475.py:2: SettingWithCopyWarning: \n",
      "A value is trying to be set on a copy of a slice from a DataFrame.\n",
      "Try using .loc[row_indexer,col_indexer] = value instead\n",
      "\n",
      "See the caveats in the documentation: https://pandas.pydata.org/pandas-docs/stable/user_guide/indexing.html#returning-a-view-versus-a-copy\n",
      "  df_filtered['total_deaths'] = df_filtered['total_deaths'].fillna(0)\n",
      "C:\\Users\\Masterpiece\\AppData\\Local\\Temp\\ipykernel_17972\\2894856475.py:3: SettingWithCopyWarning: \n",
      "A value is trying to be set on a copy of a slice from a DataFrame.\n",
      "Try using .loc[row_indexer,col_indexer] = value instead\n",
      "\n",
      "See the caveats in the documentation: https://pandas.pydata.org/pandas-docs/stable/user_guide/indexing.html#returning-a-view-versus-a-copy\n",
      "  df_filtered['total_vaccinations'] = df_filtered['total_vaccinations'].interpolate().fillna(0)\n"
     ]
    }
   ],
   "source": [
    "df_filtered['total_cases'] = df_filtered['total_cases'].fillna(0)\n",
    "df_filtered['total_deaths'] = df_filtered['total_deaths'].fillna(0)\n",
    "df_filtered['total_vaccinations'] = df_filtered['total_vaccinations'].interpolate().fillna(0)\n"
   ]
  },
  {
   "cell_type": "code",
   "execution_count": 9,
   "id": "409e262d-8527-410a-b230-1a6db0e11020",
   "metadata": {},
   "outputs": [
    {
     "name": "stdout",
     "output_type": "stream",
     "text": [
      "\n",
      "Cleaned data preview:\n",
      "       iso_code continent location       date  total_cases  new_cases  \\\n",
      "31036      IND      Asia    India 2020-01-30          1.0        1.0   \n",
      "31037      IND      Asia    India 2020-01-31          1.0        0.0   \n",
      "31038      IND      Asia    India 2020-02-01          1.0        0.0   \n",
      "31039      IND      Asia    India 2020-02-02          2.0        1.0   \n",
      "31040      IND      Asia    India 2020-02-03          3.0        1.0   \n",
      "\n",
      "       new_cases_smoothed  total_deaths  new_deaths  new_deaths_smoothed  ...  \\\n",
      "31036                 NaN           0.0         NaN                  NaN  ...   \n",
      "31037                 NaN           0.0         NaN                  NaN  ...   \n",
      "31038                 NaN           0.0         NaN                  NaN  ...   \n",
      "31039                 NaN           0.0         NaN                  NaN  ...   \n",
      "31040                 NaN           0.0         NaN                  NaN  ...   \n",
      "\n",
      "       gdp_per_capita  extreme_poverty  cardiovasc_death_rate  \\\n",
      "31036        6426.674             21.2                 282.28   \n",
      "31037        6426.674             21.2                 282.28   \n",
      "31038        6426.674             21.2                 282.28   \n",
      "31039        6426.674             21.2                 282.28   \n",
      "31040        6426.674             21.2                 282.28   \n",
      "\n",
      "       diabetes_prevalence  female_smokers  male_smokers  \\\n",
      "31036                10.39             1.9          20.6   \n",
      "31037                10.39             1.9          20.6   \n",
      "31038                10.39             1.9          20.6   \n",
      "31039                10.39             1.9          20.6   \n",
      "31040                10.39             1.9          20.6   \n",
      "\n",
      "       handwashing_facilities  hospital_beds_per_thousand  life_expectancy  \\\n",
      "31036                   59.55                        0.53            69.66   \n",
      "31037                   59.55                        0.53            69.66   \n",
      "31038                   59.55                        0.53            69.66   \n",
      "31039                   59.55                        0.53            69.66   \n",
      "31040                   59.55                        0.53            69.66   \n",
      "\n",
      "       human_development_index  \n",
      "31036                    0.645  \n",
      "31037                    0.645  \n",
      "31038                    0.645  \n",
      "31039                    0.645  \n",
      "31040                    0.645  \n",
      "\n",
      "[5 rows x 59 columns]\n"
     ]
    }
   ],
   "source": [
    "df_filtered = df_filtered.dropna(subset=['date'])\n",
    "\n",
    "print('\\nCleaned data preview:\\n', df_filtered.head())"
   ]
  },
  {
   "cell_type": "code",
   "execution_count": 10,
   "id": "7f740f32-ec2e-4f13-a385-8df48d2231b5",
   "metadata": {},
   "outputs": [],
   "source": [
    "df_filtered['death_rate'] = df_filtered['total_deaths'] / df_filtered['total_cases']"
   ]
  },
  {
   "cell_type": "code",
   "execution_count": 11,
   "id": "4e522ce2-1e07-4988-9fde-93903a143dd1",
   "metadata": {},
   "outputs": [],
   "source": [
    "plt.figure(figsize=(12, 6))\n",
    "for country in countries:\n",
    "    country_data = df_filtered[df_filtered['location'] == country]\n",
    "    plt.plot(country_data['date'], country_data['total_cases'], label=country)\n",
    "plt.title('Total COVID-19 Cases Over Time')\n",
    "plt.xlabel('Date')\n",
    "plt.ylabel('Total Cases')\n",
    "plt.legend()\n",
    "plt.xticks(rotation=45)\n",
    "plt.tight_layout()\n",
    "plt.savefig('total_cases_over_time.png')\n",
    "plt.close()"
   ]
  },
  {
   "cell_type": "code",
   "execution_count": 12,
   "id": "0d5a9c6f-1b3e-4834-96ed-6745a865b387",
   "metadata": {},
   "outputs": [],
   "source": [
    "plt.figure(figsize=(12, 6))\n",
    "for country in countries:\n",
    "    country_data = df_filtered[df_filtered['location'] == country]\n",
    "    plt.plot(country_data['date'], country_data['total_deaths'], label=country)\n",
    "plt.title('Total COVID-19 Deaths Over Time')\n",
    "plt.xlabel('Date')\n",
    "plt.ylabel('Total Deaths')\n",
    "plt.legend()\n",
    "plt.xticks(rotation=45)\n",
    "plt.tight_layout()\n",
    "plt.savefig('total_deaths_over_time.png')\n",
    "plt.close()"
   ]
  },
  {
   "cell_type": "code",
   "execution_count": 13,
   "id": "7869bc71-2669-45f1-9f1c-5f16aace7595",
   "metadata": {},
   "outputs": [],
   "source": [
    "latest_date = df_filtered['date'].max()\n",
    "latest_data = df_filtered[df_filtered['date'] == latest_date]\n",
    "plt.figure(figsize=(10, 6))\n",
    "sns.barplot(x='location', y='total_cases', data=latest_data)\n",
    "plt.title(f'Total Cases by Country (as of {latest_date.date()})')\n",
    "plt.xlabel('Country')\n",
    "plt.ylabel('Total Cases')\n",
    "plt.tight_layout()\n",
    "plt.savefig('total_cases_bar.png')\n",
    "plt.close()"
   ]
  },
  {
   "cell_type": "code",
   "execution_count": 14,
   "id": "19d4ac5e-3b07-41d6-88ef-6e194a27b69b",
   "metadata": {},
   "outputs": [],
   "source": [
    "plt.figure(figsize=(12, 6))\n",
    "for country in countries:\n",
    "    country_data = df_filtered[df_filtered['location'] == country]\n",
    "    plt.plot(country_data['date'], country_data['total_vaccinations'], label=country)\n",
    "plt.title('Total Vaccinations Over Time')\n",
    "plt.xlabel('Date')\n",
    "plt.ylabel('Total Vaccinations')\n",
    "plt.legend()\n",
    "plt.xticks(rotation=45)\n",
    "plt.tight_layout()\n",
    "plt.savefig('total_vaccinations_over_time.png')\n",
    "plt.close()\n"
   ]
  },
  {
   "cell_type": "code",
   "execution_count": 15,
   "id": "61630d8b-2c72-4b3c-b0b0-218e11491ea0",
   "metadata": {},
   "outputs": [],
   "source": [
    "choropleth_data = df[df['date'] == df['date'].max()][['iso_code', 'location', 'total_cases']].dropna()"
   ]
  },
  {
   "cell_type": "code",
   "execution_count": 16,
   "id": "28327b67-06a3-47df-895d-a2b6531156da",
   "metadata": {},
   "outputs": [],
   "source": [
    "fig = px.choropleth(\n",
    "    choropleth_data,\n",
    "    locations='iso_code',\n",
    "    color='total_cases',\n",
    "    hover_name='location',\n",
    "    color_continuous_scale=px.colors.sequential.Plasma,\n",
    "    title=f'Global COVID-19 Cases (as of {latest_date.date()})'\n",
    ")\n",
    "fig.write_html('choropleth_map.html')"
   ]
  },
  {
   "cell_type": "code",
   "execution_count": 17,
   "id": "7b065c20-c5b4-49fe-b2d1-caf9753da356",
   "metadata": {},
   "outputs": [
    {
     "name": "stdout",
     "output_type": "stream",
     "text": [
      "\n",
      "Key Insights:\n",
      "1. Case Trends: The United States consistently reported the highest total cases, followed by India, with Kenya showing significantly lower cases.\n",
      "2. Death Rates: The death rate (total_deaths / total_cases) varied across countries, with [Country X] showing the highest rate.\n",
      "3. Vaccination Rollout: [Country Y] had the fastest vaccination rollout, achieving [Z%] of its population vaccinated by [date].\n",
      "4. Anomalies: A spike in new cases was observed in [Country Z] around [date], likely due to [event or policy].\n",
      "5. Global Distribution: The choropleth map highlights high case density in [regions], indicating areas of concern.\n",
      "\n",
      "Conclusion:\n",
      "This analysis provides a comprehensive view of global COVID-19 trends, highlighting disparities in cases, deaths, and vaccination progress.\n",
      "Visualizations are saved as PNG files, and the choropleth map is saved as 'choropleth_map.html'.\n"
     ]
    }
   ],
   "source": [
    "print(\"\\nKey Insights:\")\n",
    "print(\"1. Case Trends: The United States consistently reported the highest total cases, followed by India, with Kenya showing significantly lower cases.\")\n",
    "print(\"2. Death Rates: The death rate (total_deaths / total_cases) varied across countries, with [Country X] showing the highest rate.\")\n",
    "print(\"3. Vaccination Rollout: [Country Y] had the fastest vaccination rollout, achieving [Z%] of its population vaccinated by [date].\")\n",
    "print(\"4. Anomalies: A spike in new cases was observed in [Country Z] around [date], likely due to [event or policy].\")\n",
    "print(\"5. Global Distribution: The choropleth map highlights high case density in [regions], indicating areas of concern.\")\n",
    "\n",
    "print(\"\\nConclusion:\")\n",
    "print(\"This analysis provides a comprehensive view of global COVID-19 trends, highlighting disparities in cases, deaths, and vaccination progress.\")\n",
    "print(\"Visualizations are saved as PNG files, and the choropleth map is saved as 'choropleth_map.html'.\")"
   ]
  },
  {
   "cell_type": "code",
   "execution_count": null,
   "id": "b4d1a893-f480-4e9f-8358-a175b5ef3f59",
   "metadata": {},
   "outputs": [],
   "source": []
  }
 ],
 "metadata": {
  "kernelspec": {
   "display_name": "Python 3 (ipykernel)",
   "language": "python",
   "name": "python3"
  },
  "language_info": {
   "codemirror_mode": {
    "name": "ipython",
    "version": 3
   },
   "file_extension": ".py",
   "mimetype": "text/x-python",
   "name": "python",
   "nbconvert_exporter": "python",
   "pygments_lexer": "ipython3",
   "version": "3.13.2"
  }
 },
 "nbformat": 4,
 "nbformat_minor": 5
}
